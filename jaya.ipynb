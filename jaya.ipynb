{
 "cells": [
  {
   "cell_type": "code",
   "execution_count": 1,
   "id": "7775f95f-d08d-4708-951a-fd03b8f6219b",
   "metadata": {},
   "outputs": [
    {
     "ename": "ModuleNotFoundError",
     "evalue": "No module named 'matplotlib'",
     "output_type": "error",
     "traceback": [
      "\u001b[1;31m---------------------------------------------------------------------------\u001b[0m",
      "\u001b[1;31mModuleNotFoundError\u001b[0m                       Traceback (most recent call last)",
      "Cell \u001b[1;32mIn[1], line 3\u001b[0m\n\u001b[0;32m      1\u001b[0m \u001b[38;5;28;01mimport\u001b[39;00m \u001b[38;5;21;01mpandas\u001b[39;00m \u001b[38;5;28;01mas\u001b[39;00m \u001b[38;5;21;01mpd\u001b[39;00m\n\u001b[0;32m      2\u001b[0m \u001b[38;5;28;01mimport\u001b[39;00m \u001b[38;5;21;01mnumpy\u001b[39;00m \u001b[38;5;28;01mas\u001b[39;00m \u001b[38;5;21;01mnp\u001b[39;00m\n\u001b[1;32m----> 3\u001b[0m \u001b[38;5;28;01mimport\u001b[39;00m \u001b[38;5;21;01mmatplotlib\u001b[39;00m\u001b[38;5;21;01m.\u001b[39;00m\u001b[38;5;21;01mpyplot\u001b[39;00m \u001b[38;5;28;01mas\u001b[39;00m \u001b[38;5;21;01mplt\u001b[39;00m\n\u001b[0;32m      4\u001b[0m \u001b[38;5;28;01mfrom\u001b[39;00m \u001b[38;5;21;01msklearn\u001b[39;00m\u001b[38;5;21;01m.\u001b[39;00m\u001b[38;5;21;01mmetrics\u001b[39;00m \u001b[38;5;28;01mimport\u001b[39;00m classification_report, confusion_matrix, accuracy_score\n",
      "\u001b[1;31mModuleNotFoundError\u001b[0m: No module named 'matplotlib'"
     ]
    }
   ],
   "source": [
    "import pandas as pd\n",
    "import numpy as np\n",
    "import matplotlib.pyplot as plt\n",
    "from sklearn.metrics import classification_report, confusion_matrix, accuracy_score"
   ]
  },
  {
   "cell_type": "code",
   "execution_count": 2,
   "id": "c0bb0009-304c-4443-b107-67770e5e0cae",
   "metadata": {},
   "outputs": [],
   "source": [
    "from sklearn.model_selection import train_test_split\n",
    "from sklearn.tree import DecisionTreeClassifier\n",
    "from sklearn.metrics import accuracy_score \n",
    "from sklearn import tree\n",
    "from sklearn.preprocessing import LabelEncoder"
   ]
  },
  {
   "cell_type": "code",
   "execution_count": 3,
   "id": "862dbf2e-6fb7-4b5f-9beb-123364dc0039",
   "metadata": {},
   "outputs": [],
   "source": [
    "df = pd.read_csv('C:/Users/TOSHIBA/anaconda3/Obesity.csv')"
   ]
  },
  {
   "cell_type": "code",
   "execution_count": 4,
   "id": "b0048a41-af07-4282-91a9-562c6142431a",
   "metadata": {},
   "outputs": [
    {
     "name": "stdout",
     "output_type": "stream",
     "text": [
      "   Height  Weight  family_history_with_overweight  SCC  MTRANS_Walking  \\\n",
      "0    1.62    64.0                               1    0               0   \n",
      "1    1.52    56.0                               1    1               0   \n",
      "2    1.80    77.0                               1    0               0   \n",
      "3    1.80    87.0                               0    0               1   \n",
      "4    1.78    89.8                               0    0               0   \n",
      "\n",
      "     FAVC_z  FCVC_minmax     NCP_z  CAEC_minmax  CH2O_minmax  FAF_minmax  \\\n",
      "0  2.766876          0.5  0.404704     0.333333          0.5    0.000000   \n",
      "1  2.766876          1.0  0.404704     0.333333          1.0    1.000000   \n",
      "2  2.766876          0.5  0.404704     0.333333          0.5    0.666667   \n",
      "3  2.766876          1.0  0.404704     0.333333          0.5    0.666667   \n",
      "4  2.766876          0.5  2.164116     0.333333          0.5    0.000000   \n",
      "\n",
      "      TUE_z    CALC_z  Age_bin_minmax  NObeyesdad  \n",
      "0  0.550985  1.439033            0.25           1  \n",
      "1  1.092724  0.516552            0.25           1  \n",
      "2  0.550985  2.472136            0.50           1  \n",
      "3  1.092724  2.472136            0.75           2  \n",
      "4  1.092724  0.516552            0.50           3  \n"
     ]
    }
   ],
   "source": [
    "print(df.head())"
   ]
  },
  {
   "cell_type": "code",
   "execution_count": 5,
   "id": "4d6fa536-1efb-4fd1-9db7-319060088ca7",
   "metadata": {},
   "outputs": [],
   "source": [
    "# Buat instance dari LabelEncoder\n",
    "label_encoder = LabelEncoder()"
   ]
  },
  {
   "cell_type": "code",
   "execution_count": 6,
   "id": "7386b4e7-49cb-4754-a32e-9dd280816b68",
   "metadata": {},
   "outputs": [
    {
     "data": {
      "text/html": [
       "<div>\n",
       "<style scoped>\n",
       "    .dataframe tbody tr th:only-of-type {\n",
       "        vertical-align: middle;\n",
       "    }\n",
       "\n",
       "    .dataframe tbody tr th {\n",
       "        vertical-align: top;\n",
       "    }\n",
       "\n",
       "    .dataframe thead th {\n",
       "        text-align: right;\n",
       "    }\n",
       "</style>\n",
       "<table border=\"1\" class=\"dataframe\">\n",
       "  <thead>\n",
       "    <tr style=\"text-align: right;\">\n",
       "      <th></th>\n",
       "      <th>Height</th>\n",
       "      <th>Weight</th>\n",
       "      <th>family_history_with_overweight</th>\n",
       "      <th>SCC</th>\n",
       "      <th>MTRANS_Walking</th>\n",
       "      <th>FAVC_z</th>\n",
       "      <th>FCVC_minmax</th>\n",
       "      <th>NCP_z</th>\n",
       "      <th>CAEC_minmax</th>\n",
       "      <th>CH2O_minmax</th>\n",
       "      <th>FAF_minmax</th>\n",
       "      <th>TUE_z</th>\n",
       "      <th>CALC_z</th>\n",
       "      <th>Age_bin_minmax</th>\n",
       "      <th>NObeyesdad</th>\n",
       "    </tr>\n",
       "  </thead>\n",
       "  <tbody>\n",
       "    <tr>\n",
       "      <th>0</th>\n",
       "      <td>1.620000</td>\n",
       "      <td>64.000000</td>\n",
       "      <td>1</td>\n",
       "      <td>0</td>\n",
       "      <td>0</td>\n",
       "      <td>2.766876</td>\n",
       "      <td>0.5</td>\n",
       "      <td>0.404704</td>\n",
       "      <td>0.333333</td>\n",
       "      <td>0.500000</td>\n",
       "      <td>0.000000</td>\n",
       "      <td>0.550985</td>\n",
       "      <td>1.439033</td>\n",
       "      <td>0.25</td>\n",
       "      <td>1</td>\n",
       "    </tr>\n",
       "    <tr>\n",
       "      <th>1</th>\n",
       "      <td>1.520000</td>\n",
       "      <td>56.000000</td>\n",
       "      <td>1</td>\n",
       "      <td>1</td>\n",
       "      <td>0</td>\n",
       "      <td>2.766876</td>\n",
       "      <td>1.0</td>\n",
       "      <td>0.404704</td>\n",
       "      <td>0.333333</td>\n",
       "      <td>1.000000</td>\n",
       "      <td>1.000000</td>\n",
       "      <td>1.092724</td>\n",
       "      <td>0.516552</td>\n",
       "      <td>0.25</td>\n",
       "      <td>1</td>\n",
       "    </tr>\n",
       "    <tr>\n",
       "      <th>2</th>\n",
       "      <td>1.800000</td>\n",
       "      <td>77.000000</td>\n",
       "      <td>1</td>\n",
       "      <td>0</td>\n",
       "      <td>0</td>\n",
       "      <td>2.766876</td>\n",
       "      <td>0.5</td>\n",
       "      <td>0.404704</td>\n",
       "      <td>0.333333</td>\n",
       "      <td>0.500000</td>\n",
       "      <td>0.666667</td>\n",
       "      <td>0.550985</td>\n",
       "      <td>2.472136</td>\n",
       "      <td>0.50</td>\n",
       "      <td>1</td>\n",
       "    </tr>\n",
       "    <tr>\n",
       "      <th>3</th>\n",
       "      <td>1.800000</td>\n",
       "      <td>87.000000</td>\n",
       "      <td>0</td>\n",
       "      <td>0</td>\n",
       "      <td>1</td>\n",
       "      <td>2.766876</td>\n",
       "      <td>1.0</td>\n",
       "      <td>0.404704</td>\n",
       "      <td>0.333333</td>\n",
       "      <td>0.500000</td>\n",
       "      <td>0.666667</td>\n",
       "      <td>1.092724</td>\n",
       "      <td>2.472136</td>\n",
       "      <td>0.75</td>\n",
       "      <td>2</td>\n",
       "    </tr>\n",
       "    <tr>\n",
       "      <th>4</th>\n",
       "      <td>1.780000</td>\n",
       "      <td>89.800000</td>\n",
       "      <td>0</td>\n",
       "      <td>0</td>\n",
       "      <td>0</td>\n",
       "      <td>2.766876</td>\n",
       "      <td>0.5</td>\n",
       "      <td>2.164116</td>\n",
       "      <td>0.333333</td>\n",
       "      <td>0.500000</td>\n",
       "      <td>0.000000</td>\n",
       "      <td>1.092724</td>\n",
       "      <td>0.516552</td>\n",
       "      <td>0.50</td>\n",
       "      <td>3</td>\n",
       "    </tr>\n",
       "    <tr>\n",
       "      <th>...</th>\n",
       "      <td>...</td>\n",
       "      <td>...</td>\n",
       "      <td>...</td>\n",
       "      <td>...</td>\n",
       "      <td>...</td>\n",
       "      <td>...</td>\n",
       "      <td>...</td>\n",
       "      <td>...</td>\n",
       "      <td>...</td>\n",
       "      <td>...</td>\n",
       "      <td>...</td>\n",
       "      <td>...</td>\n",
       "      <td>...</td>\n",
       "      <td>...</td>\n",
       "      <td>...</td>\n",
       "    </tr>\n",
       "    <tr>\n",
       "      <th>2081</th>\n",
       "      <td>1.710730</td>\n",
       "      <td>131.408528</td>\n",
       "      <td>1</td>\n",
       "      <td>0</td>\n",
       "      <td>0</td>\n",
       "      <td>0.361418</td>\n",
       "      <td>1.0</td>\n",
       "      <td>0.404704</td>\n",
       "      <td>0.333333</td>\n",
       "      <td>0.364069</td>\n",
       "      <td>0.558756</td>\n",
       "      <td>0.396883</td>\n",
       "      <td>0.516552</td>\n",
       "      <td>0.25</td>\n",
       "      <td>6</td>\n",
       "    </tr>\n",
       "    <tr>\n",
       "      <th>2082</th>\n",
       "      <td>1.748584</td>\n",
       "      <td>133.742943</td>\n",
       "      <td>1</td>\n",
       "      <td>0</td>\n",
       "      <td>0</td>\n",
       "      <td>0.361418</td>\n",
       "      <td>1.0</td>\n",
       "      <td>0.404704</td>\n",
       "      <td>0.333333</td>\n",
       "      <td>0.502565</td>\n",
       "      <td>0.447130</td>\n",
       "      <td>0.107698</td>\n",
       "      <td>0.516552</td>\n",
       "      <td>0.50</td>\n",
       "      <td>6</td>\n",
       "    </tr>\n",
       "    <tr>\n",
       "      <th>2083</th>\n",
       "      <td>1.752206</td>\n",
       "      <td>133.689352</td>\n",
       "      <td>1</td>\n",
       "      <td>0</td>\n",
       "      <td>0</td>\n",
       "      <td>0.361418</td>\n",
       "      <td>1.0</td>\n",
       "      <td>0.404704</td>\n",
       "      <td>0.333333</td>\n",
       "      <td>0.527097</td>\n",
       "      <td>0.471403</td>\n",
       "      <td>0.030414</td>\n",
       "      <td>0.516552</td>\n",
       "      <td>0.50</td>\n",
       "      <td>6</td>\n",
       "    </tr>\n",
       "    <tr>\n",
       "      <th>2084</th>\n",
       "      <td>1.739450</td>\n",
       "      <td>133.346641</td>\n",
       "      <td>1</td>\n",
       "      <td>0</td>\n",
       "      <td>0</td>\n",
       "      <td>0.361418</td>\n",
       "      <td>1.0</td>\n",
       "      <td>0.404704</td>\n",
       "      <td>0.333333</td>\n",
       "      <td>0.926169</td>\n",
       "      <td>0.379702</td>\n",
       "      <td>0.129453</td>\n",
       "      <td>0.516552</td>\n",
       "      <td>0.75</td>\n",
       "      <td>6</td>\n",
       "    </tr>\n",
       "    <tr>\n",
       "      <th>2085</th>\n",
       "      <td>1.738836</td>\n",
       "      <td>133.472641</td>\n",
       "      <td>1</td>\n",
       "      <td>0</td>\n",
       "      <td>0</td>\n",
       "      <td>0.361418</td>\n",
       "      <td>1.0</td>\n",
       "      <td>0.404704</td>\n",
       "      <td>0.333333</td>\n",
       "      <td>0.931756</td>\n",
       "      <td>0.342151</td>\n",
       "      <td>0.081110</td>\n",
       "      <td>0.516552</td>\n",
       "      <td>0.50</td>\n",
       "      <td>6</td>\n",
       "    </tr>\n",
       "  </tbody>\n",
       "</table>\n",
       "<p>2086 rows × 15 columns</p>\n",
       "</div>"
      ],
      "text/plain": [
       "        Height      Weight  family_history_with_overweight  SCC  \\\n",
       "0     1.620000   64.000000                               1    0   \n",
       "1     1.520000   56.000000                               1    1   \n",
       "2     1.800000   77.000000                               1    0   \n",
       "3     1.800000   87.000000                               0    0   \n",
       "4     1.780000   89.800000                               0    0   \n",
       "...        ...         ...                             ...  ...   \n",
       "2081  1.710730  131.408528                               1    0   \n",
       "2082  1.748584  133.742943                               1    0   \n",
       "2083  1.752206  133.689352                               1    0   \n",
       "2084  1.739450  133.346641                               1    0   \n",
       "2085  1.738836  133.472641                               1    0   \n",
       "\n",
       "      MTRANS_Walking    FAVC_z  FCVC_minmax     NCP_z  CAEC_minmax  \\\n",
       "0                  0  2.766876          0.5  0.404704     0.333333   \n",
       "1                  0  2.766876          1.0  0.404704     0.333333   \n",
       "2                  0  2.766876          0.5  0.404704     0.333333   \n",
       "3                  1  2.766876          1.0  0.404704     0.333333   \n",
       "4                  0  2.766876          0.5  2.164116     0.333333   \n",
       "...              ...       ...          ...       ...          ...   \n",
       "2081               0  0.361418          1.0  0.404704     0.333333   \n",
       "2082               0  0.361418          1.0  0.404704     0.333333   \n",
       "2083               0  0.361418          1.0  0.404704     0.333333   \n",
       "2084               0  0.361418          1.0  0.404704     0.333333   \n",
       "2085               0  0.361418          1.0  0.404704     0.333333   \n",
       "\n",
       "      CH2O_minmax  FAF_minmax     TUE_z    CALC_z  Age_bin_minmax  NObeyesdad  \n",
       "0        0.500000    0.000000  0.550985  1.439033            0.25           1  \n",
       "1        1.000000    1.000000  1.092724  0.516552            0.25           1  \n",
       "2        0.500000    0.666667  0.550985  2.472136            0.50           1  \n",
       "3        0.500000    0.666667  1.092724  2.472136            0.75           2  \n",
       "4        0.500000    0.000000  1.092724  0.516552            0.50           3  \n",
       "...           ...         ...       ...       ...             ...         ...  \n",
       "2081     0.364069    0.558756  0.396883  0.516552            0.25           6  \n",
       "2082     0.502565    0.447130  0.107698  0.516552            0.50           6  \n",
       "2083     0.527097    0.471403  0.030414  0.516552            0.50           6  \n",
       "2084     0.926169    0.379702  0.129453  0.516552            0.75           6  \n",
       "2085     0.931756    0.342151  0.081110  0.516552            0.50           6  \n",
       "\n",
       "[2086 rows x 15 columns]"
      ]
     },
     "execution_count": 6,
     "metadata": {},
     "output_type": "execute_result"
    }
   ],
   "source": [
    "# Menampilkan beberapa baris pertama dari DataFrame untuk verifikasi\n",
    "df"
   ]
  },
  {
   "cell_type": "code",
   "execution_count": 12,
   "id": "b61a7ded-be7d-4bce-8983-14f525605b83",
   "metadata": {},
   "outputs": [
    {
     "name": "stdout",
     "output_type": "stream",
     "text": [
      "Height                            0\n",
      "Weight                            0\n",
      "family_history_with_overweight    0\n",
      "SCC                               0\n",
      "MTRANS_Walking                    0\n",
      "FAVC_z                            0\n",
      "FCVC_minmax                       0\n",
      "NCP_z                             0\n",
      "CAEC_minmax                       0\n",
      "CH2O_minmax                       0\n",
      "FAF_minmax                        0\n",
      "TUE_z                             0\n",
      "CALC_z                            0\n",
      "Age_bin_minmax                    0\n",
      "NObeyesdad                        0\n",
      "dtype: int64\n"
     ]
    }
   ],
   "source": [
    "# Cek missing values\n",
    "print(df.isnull().sum())"
   ]
  },
  {
   "cell_type": "code",
   "execution_count": 8,
   "id": "ee3ead43-1bcf-4bca-850e-25c2f18dd408",
   "metadata": {},
   "outputs": [],
   "source": [
    "# Jika ada missing values, hapus baris yang mengandung missing values\n",
    "df.dropna(inplace=True)"
   ]
  },
  {
   "cell_type": "code",
   "execution_count": 9,
   "id": "3a8034fc-8fae-437d-b4e7-15fa3cc7a02a",
   "metadata": {},
   "outputs": [],
   "source": [
    "# Definisikan fitur dan target\n",
    "X = df.drop(\"NObeyesdad\", axis=1)\n",
    "y = df[\"NObeyesdad\"]"
   ]
  },
  {
   "cell_type": "code",
   "execution_count": 10,
   "id": "38184fb7-1d12-4ca8-b68f-4614ae849f9b",
   "metadata": {},
   "outputs": [],
   "source": [
    "# Membagi data menjadi train dan test set\n",
    "X_train, X_test, y_train, y_test = train_test_split(X, y, test_size=0.2, random_state=42)"
   ]
  },
  {
   "cell_type": "code",
   "execution_count": 11,
   "id": "ce9ddf3c-1ca3-4ab3-b5b2-e98993a49a79",
   "metadata": {},
   "outputs": [],
   "source": [
    "# Membuat model Decision Tree\n",
    "model = DecisionTreeClassifier(random_state=42)"
   ]
  },
  {
   "cell_type": "code",
   "execution_count": 13,
   "id": "18db4315-f5b6-4d91-8ebf-833a2822320e",
   "metadata": {},
   "outputs": [
    {
     "data": {
      "text/html": [
       "<style>#sk-container-id-1 {color: black;background-color: white;}#sk-container-id-1 pre{padding: 0;}#sk-container-id-1 div.sk-toggleable {background-color: white;}#sk-container-id-1 label.sk-toggleable__label {cursor: pointer;display: block;width: 100%;margin-bottom: 0;padding: 0.3em;box-sizing: border-box;text-align: center;}#sk-container-id-1 label.sk-toggleable__label-arrow:before {content: \"▸\";float: left;margin-right: 0.25em;color: #696969;}#sk-container-id-1 label.sk-toggleable__label-arrow:hover:before {color: black;}#sk-container-id-1 div.sk-estimator:hover label.sk-toggleable__label-arrow:before {color: black;}#sk-container-id-1 div.sk-toggleable__content {max-height: 0;max-width: 0;overflow: hidden;text-align: left;background-color: #f0f8ff;}#sk-container-id-1 div.sk-toggleable__content pre {margin: 0.2em;color: black;border-radius: 0.25em;background-color: #f0f8ff;}#sk-container-id-1 input.sk-toggleable__control:checked~div.sk-toggleable__content {max-height: 200px;max-width: 100%;overflow: auto;}#sk-container-id-1 input.sk-toggleable__control:checked~label.sk-toggleable__label-arrow:before {content: \"▾\";}#sk-container-id-1 div.sk-estimator input.sk-toggleable__control:checked~label.sk-toggleable__label {background-color: #d4ebff;}#sk-container-id-1 div.sk-label input.sk-toggleable__control:checked~label.sk-toggleable__label {background-color: #d4ebff;}#sk-container-id-1 input.sk-hidden--visually {border: 0;clip: rect(1px 1px 1px 1px);clip: rect(1px, 1px, 1px, 1px);height: 1px;margin: -1px;overflow: hidden;padding: 0;position: absolute;width: 1px;}#sk-container-id-1 div.sk-estimator {font-family: monospace;background-color: #f0f8ff;border: 1px dotted black;border-radius: 0.25em;box-sizing: border-box;margin-bottom: 0.5em;}#sk-container-id-1 div.sk-estimator:hover {background-color: #d4ebff;}#sk-container-id-1 div.sk-parallel-item::after {content: \"\";width: 100%;border-bottom: 1px solid gray;flex-grow: 1;}#sk-container-id-1 div.sk-label:hover label.sk-toggleable__label {background-color: #d4ebff;}#sk-container-id-1 div.sk-serial::before {content: \"\";position: absolute;border-left: 1px solid gray;box-sizing: border-box;top: 0;bottom: 0;left: 50%;z-index: 0;}#sk-container-id-1 div.sk-serial {display: flex;flex-direction: column;align-items: center;background-color: white;padding-right: 0.2em;padding-left: 0.2em;position: relative;}#sk-container-id-1 div.sk-item {position: relative;z-index: 1;}#sk-container-id-1 div.sk-parallel {display: flex;align-items: stretch;justify-content: center;background-color: white;position: relative;}#sk-container-id-1 div.sk-item::before, #sk-container-id-1 div.sk-parallel-item::before {content: \"\";position: absolute;border-left: 1px solid gray;box-sizing: border-box;top: 0;bottom: 0;left: 50%;z-index: -1;}#sk-container-id-1 div.sk-parallel-item {display: flex;flex-direction: column;z-index: 1;position: relative;background-color: white;}#sk-container-id-1 div.sk-parallel-item:first-child::after {align-self: flex-end;width: 50%;}#sk-container-id-1 div.sk-parallel-item:last-child::after {align-self: flex-start;width: 50%;}#sk-container-id-1 div.sk-parallel-item:only-child::after {width: 0;}#sk-container-id-1 div.sk-dashed-wrapped {border: 1px dashed gray;margin: 0 0.4em 0.5em 0.4em;box-sizing: border-box;padding-bottom: 0.4em;background-color: white;}#sk-container-id-1 div.sk-label label {font-family: monospace;font-weight: bold;display: inline-block;line-height: 1.2em;}#sk-container-id-1 div.sk-label-container {text-align: center;}#sk-container-id-1 div.sk-container {/* jupyter's `normalize.less` sets `[hidden] { display: none; }` but bootstrap.min.css set `[hidden] { display: none !important; }` so we also need the `!important` here to be able to override the default hidden behavior on the sphinx rendered scikit-learn.org. See: https://github.com/scikit-learn/scikit-learn/issues/21755 */display: inline-block !important;position: relative;}#sk-container-id-1 div.sk-text-repr-fallback {display: none;}</style><div id=\"sk-container-id-1\" class=\"sk-top-container\"><div class=\"sk-text-repr-fallback\"><pre>DecisionTreeClassifier(random_state=42)</pre><b>In a Jupyter environment, please rerun this cell to show the HTML representation or trust the notebook. <br />On GitHub, the HTML representation is unable to render, please try loading this page with nbviewer.org.</b></div><div class=\"sk-container\" hidden><div class=\"sk-item\"><div class=\"sk-estimator sk-toggleable\"><input class=\"sk-toggleable__control sk-hidden--visually\" id=\"sk-estimator-id-1\" type=\"checkbox\" checked><label for=\"sk-estimator-id-1\" class=\"sk-toggleable__label sk-toggleable__label-arrow\">DecisionTreeClassifier</label><div class=\"sk-toggleable__content\"><pre>DecisionTreeClassifier(random_state=42)</pre></div></div></div></div></div>"
      ],
      "text/plain": [
       "DecisionTreeClassifier(random_state=42)"
      ]
     },
     "execution_count": 13,
     "metadata": {},
     "output_type": "execute_result"
    }
   ],
   "source": [
    "# Melatih model\n",
    "model.fit(X_train, y_train)"
   ]
  },
  {
   "cell_type": "code",
   "execution_count": 14,
   "id": "60f55751-8c17-471a-863d-6abb3db15cf3",
   "metadata": {},
   "outputs": [],
   "source": [
    "# Prediksi dengan data uji\n",
    "y_pred = model.predict(X_test)"
   ]
  },
  {
   "cell_type": "code",
   "execution_count": 15,
   "id": "0f97fbd9-275c-4a68-95f3-43c8fa117696",
   "metadata": {},
   "outputs": [
    {
     "name": "stdout",
     "output_type": "stream",
     "text": [
      "Accuracy: 0.9617224880382775\n"
     ]
    }
   ],
   "source": [
    "# Evaluasi model\n",
    "accuracy = accuracy_score(y_test, y_pred)\n",
    "print(f'Accuracy: {accuracy}')"
   ]
  },
  {
   "cell_type": "code",
   "execution_count": null,
   "id": "19968bb4-782d-4dc2-998d-23aab5564105",
   "metadata": {},
   "outputs": [],
   "source": [
    "# Visualisasi Decision Tree\n",
    "plt.figure(figsize=(20,10))\n",
    "tree.plot_tree(model, feature_names=X.columns, class_names=[str(i) for i in sorted(y.unique())], filled=True)\n",
    "plt.show()"
   ]
  },
  {
   "cell_type": "code",
   "execution_count": null,
   "id": "9dd1801e-863a-44f4-a1a7-ad4411ec6a15",
   "metadata": {},
   "outputs": [],
   "source": []
  }
 ],
 "metadata": {
  "kernelspec": {
   "display_name": "Python 3 (ipykernel)",
   "language": "python",
   "name": "python3"
  },
  "language_info": {
   "codemirror_mode": {
    "name": "ipython",
    "version": 3
   },
   "file_extension": ".py",
   "mimetype": "text/x-python",
   "name": "python",
   "nbconvert_exporter": "python",
   "pygments_lexer": "ipython3",
   "version": "3.12.3"
  }
 },
 "nbformat": 4,
 "nbformat_minor": 5
}
